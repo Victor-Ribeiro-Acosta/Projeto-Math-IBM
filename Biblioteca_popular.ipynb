{
  "nbformat": 4,
  "nbformat_minor": 0,
  "metadata": {
    "colab": {
      "provenance": [],
      "mount_file_id": "1HzCCPs7za-mI4glni_pIOP4tIT-E2RUo",
      "authorship_tag": "ABX9TyPGxGn2jYcyb6O7Ee6o7R2R"
    },
    "kernelspec": {
      "name": "python3",
      "display_name": "Python 3"
    },
    "language_info": {
      "name": "python"
    }
  },
  "cells": [
    {
      "cell_type": "code",
      "source": [
        "import os\n",
        "import sqlite3\n",
        "from pandas import DataFrame"
      ],
      "metadata": {
        "id": "c6r3Ir9OrDro"
      },
      "execution_count": 9,
      "outputs": []
    },
    {
      "cell_type": "code",
      "source": [
        "# Classe para o usuário\n",
        "class Usuario:\n",
        "    def __init__(self, nome, senha):\n",
        "        self.nome = nome\n",
        "        self.senha = senha\n"
      ],
      "metadata": {
        "id": "8o9hw_YZrqRs"
      },
      "execution_count": 10,
      "outputs": []
    },
    {
      "cell_type": "code",
      "source": [
        "# Classe para o livro\n",
        "class Livro:\n",
        "    def __init__(self, titulo, autor, genero, quantidade):\n",
        "        self.titulo = titulo\n",
        "        self.autor = autor\n",
        "        self.genero = genero\n",
        "        self.quantidade = quantidade"
      ],
      "metadata": {
        "id": "prmWZBIbrwz0"
      },
      "execution_count": 11,
      "outputs": []
    },
    {
      "cell_type": "code",
      "source": [
        "# Classe para a biblioteca\n",
        "class Biblioteca:\n",
        "    def __init__(self):\n",
        "      self.usuarios_ref = self.lista_usuarios()\n",
        "      self.livros = self.consultar_catalogo()\n",
        "\n",
        "    def cadastrar_usuario(self, usuario):\n",
        "        with sqlite3.connect('Banco_dados_biblioteca.db') as bd:\n",
        "          cursor = bd.cursor()\n",
        "          cursor.execute(f'''INSERT INTO usuarios VALUES(?, ?)''',(usuario.nome, usuario.senha))\n",
        "          bd.commit()\n",
        "\n",
        "        print(\"Usuário cadastrado com sucesso!\")\n",
        "        return True\n",
        "\n",
        "    def lista_usuarios(self):\n",
        "        with sqlite3.connect('Banco_dados_biblioteca.db') as banco_dados:\n",
        "          cursor = banco_dados.cursor()\n",
        "          dados = cursor.execute('''SELECT * FROM usuarios''')\n",
        "          usuarios = DataFrame(dados, columns=['nome','senha'])\n",
        "\n",
        "        return usuarios\n",
        "\n",
        "    def cadastrar_livro(self, livro):\n",
        "        with sqlite3.connect('Banco_dados_biblioteca.db') as bd:\n",
        "          cursor = bd.cursor()\n",
        "          cursor.execute(f'''INSERT INTO catalogo_livros VALUES(?, ?, ?, ?)''',(livro.titulo, livro.autor, livro.genero, livro.quantidade))\n",
        "          bd.commit()\n",
        "\n",
        "        print(\"Livro cadastrado com sucesso!\")\n",
        "\n",
        "    def consultar_catalogo(self):\n",
        "      with sqlite3.connect('Banco_dados_biblioteca.db') as banco_dados:\n",
        "        cursor = banco_dados.cursor()\n",
        "        obras_disponiveis = cursor.execute('SELECT * FROM catalogo_livros')\n",
        "        dados = DataFrame(obras_disponiveis, columns=['Titulo', 'Autor', 'Genero', 'Quantidade'])\n",
        "      return dados\n"
      ],
      "metadata": {
        "id": "3ML26rWer_tr"
      },
      "execution_count": 16,
      "outputs": []
    },
    {
      "cell_type": "code",
      "source": [
        "# Dicionário para armazenar usuários e livros\n",
        "\n",
        "biblioteca = Biblioteca()\n",
        "\n",
        "# Lista de gêneros\n",
        "generos = [\"romance\", \"novela\", \"conto\", \"ficção científica\", \"fantasia\", \"mistério\", \"suspense\", \"terror\", \"ficção histórica\", \"realismo mágico\", \"ficção especulativa\", \"ficção de aventura\", \"ficção policial\", \"ficção de espionagem\", \"biografia\", \"autobiografia\", \"memórias\", \"história\", \"ensaio\", \"jornalismo literário\", \"autoajuda\", \"guias de viagem\", \"livros de receitas\", \"livros de referência\", \"soneto\", \"ode\", \"elegia\", \"haicai\", \"épico\", \"lírico\", \"tragédia\", \"comédia\", \"drama histórico\", \"melodrama\", \"farsa\", \"ficção para jovens adultos\", \"livros ilustrados\", \"literatura infantil\", \"graphic novels\", \"mangá\", \"light novel\"]\n"
      ],
      "metadata": {
        "id": "hCiNBGrGsdW9"
      },
      "execution_count": 17,
      "outputs": []
    },
    {
      "cell_type": "code",
      "source": [
        "# Função para encontrar o gênero mais parecido na lista de gêneros\n",
        "def encontrar_genero(genero):\n",
        "    for g in generos:\n",
        "        if g.startswith(genero.lower()[:4]):\n",
        "            return g\n",
        "    return genero"
      ],
      "metadata": {
        "id": "zZ6WWjaVsl1l"
      },
      "execution_count": 18,
      "outputs": []
    },
    {
      "cell_type": "code",
      "source": [
        "# Função para cadastrar usuário\n",
        "def cadastrar_usuario():\n",
        "    while True:\n",
        "        nome = input(\"Cadastre  o seu nome de usuário:\")\n",
        "        if len(nome) > 60:\n",
        "            print(\"O nome de usuário deve ter até 60 caracteres. Tente novamente.\")\n",
        "\n",
        "        else:\n",
        "          senha = input(\"Agora digite uma  senha com 4 dígitos: \")\n",
        "\n",
        "          if len(senha) != 4:\n",
        "            print(\"A senha deve ter 4 dígitos, tente novamente.\")\n",
        "\n",
        "          else:\n",
        "            break\n",
        "    usuario = Usuario(nome, senha)\n",
        "    return biblioteca.cadastrar_usuario(usuario)"
      ],
      "metadata": {
        "id": "gfH_-P-gsrq7"
      },
      "execution_count": 19,
      "outputs": []
    },
    {
      "cell_type": "code",
      "source": [
        "# Função para login do usuário\n",
        "def login():\n",
        "    nome = input(\"Digite o seu nome de usuário: \")\n",
        "    senha = input(\"Digite a sua senha de 4 dígitos: \")\n",
        "    if nome in biblioteca.usuarios_ref['nome'] and senha in biblioteca.usuarios_ref['senha']:\n",
        "      for indice, usuario in biblioteca.usuarios_ref.iterrows():\n",
        "\n",
        "        if usuario.nome == nome and usuario.senha == senha:\n",
        "          print(\"Login realizado com sucesso!\")\n",
        "          return True\n",
        "\n",
        "        else:\n",
        "          print('Usuário ou senha inválidos!')\n",
        "          return False\n",
        "\n",
        "    else:\n",
        "        print(\"Login falhou.\")\n",
        "        return False"
      ],
      "metadata": {
        "id": "zO1HF4P9szL4"
      },
      "execution_count": 69,
      "outputs": []
    },
    {
      "cell_type": "code",
      "source": [
        "# Função para cadastrar livro\n",
        "def cadastrar_livro():\n",
        "    while True:\n",
        "        titulo = input(\"Digite o título do livro que quer cadastrar: \")\n",
        "        if len(titulo) <= 60:\n",
        "            break\n",
        "        else:\n",
        "            print(\"O título do livro deve ter até 60 caracteres. Tente novamente.\")\n",
        "    while True:\n",
        "        autor = input(\"Agora cadastre o nome do autor: \")\n",
        "        if len(autor) <= 60:\n",
        "            break\n",
        "        else:\n",
        "            print(\"O nome do autor deve ter até 60 caracteres. Tente novamente.\")\n",
        "    while True:\n",
        "        genero = input(\"Digite o gênero do livro: \")\n",
        "        if len(genero) <= 10 and genero.isalpha():\n",
        "            genero = encontrar_genero(genero)\n",
        "            break\n",
        "        else:\n",
        "            print(\"Gênero inválido. Por favor, insira um gênero válido sem números e com até 10 caracteres.\")\n",
        "    while True:\n",
        "        try:\n",
        "            quantidade = int(input(\"Digite a quantidade de exemplares do título que está cadsatrando: \"))\n",
        "            if 0 <= quantidade <= 9999:\n",
        "                break\n",
        "            else:\n",
        "                print(\"Quantidade inválida. Por favor, insira um número inteiro de 1 a 9999.\")\n",
        "        except ValueError:\n",
        "            print(\"Quantidade inválida. Por favor, insira um número inteiro.\")\n",
        "    livro = Livro(titulo, autor, genero, quantidade)\n",
        "    biblioteca.cadastrar_livro(livro)\n"
      ],
      "metadata": {
        "id": "9HzqxyIJs5mD"
      },
      "execution_count": 70,
      "outputs": []
    },
    {
      "cell_type": "code",
      "source": [
        "# Função para consultar livro\n",
        "def consultar_livro():\n",
        "    opcao = input(\"Deseja consultar por (1)Título, (2)Autor, (3)Gênero ou (4)Ver todo o cadastro? \")\n",
        "    if opcao == '1':\n",
        "        titulo = input(\"Digite o título do livro: \")\n",
        "        for indice, livro in biblioteca.livros.iterrows():\n",
        "            if livro.loc[indice, 'Titulo'].lower == titulo.lower():\n",
        "                print(f'Título: {livro.titulo}, Autor: {livro.autor}, Gênero: {livro.genero}, Quantidade: {livro.quantidade}')\n",
        "    elif opcao == '2':\n",
        "        autor = input(\"Digite o nome do autor: \")\n",
        "        for indice, livro in biblioteca.livros.iterrows():\n",
        "            if livro.loc[indice, 'Autor'].lower == autor.lower():\n",
        "                print(f'Título: {livro.titulo}, Autor: {livro.autor}, Gênero: {livro.genero}, Quantidade: {livro.quantidade}')\n",
        "    elif opcao == '3':\n",
        "        genero = input(\"Digite o gênero do livro: \")\n",
        "        genero = encontrar_genero(genero)\n",
        "        for indice, livro in biblioteca.livros.iterrows():\n",
        "            if livro.loc[indice, 'Genero'].lower == genero.lower():\n",
        "                print(f'Título: {livro.titulo}, Autor: {livro.autor}, Gênero: {livro.genero}, Quantidade: {livro.quantidade}')\n",
        "    elif opcao == '4':\n",
        "        for indice, livro in biblioteca.livros.iterrows():\n",
        "          print(f'Título: {livro.titulo}, Autor: {livro.autor}, Gênero: {livro.genero}, Quantidade: {livro.quantidade}')\n"
      ],
      "metadata": {
        "id": "GOEHwZ0ZtBY6"
      },
      "execution_count": 71,
      "outputs": []
    },
    {
      "cell_type": "code",
      "source": [
        "\n",
        "criar_tabelas()\n",
        "\n",
        "while True:\n",
        "  print(\"Bem-vindo ao sistema de biblioteca!\")\n",
        "  print(\"1. Cadastrar usuário\")\n",
        "  print(\"2. Login\")\n",
        "  print(\"3. Descadastrar usuário\")\n",
        "  print(\"4. Sair\")\n",
        "  opcao = input(\"Escolha uma opção: \")\n",
        "  if opcao == '1':\n",
        "    if cadastrar_usuario():\n",
        "      while True:\n",
        "        print(\"1. Cadastrar livro\")\n",
        "        print(\"2. Consultar livro\")\n",
        "        print(\"3. Descadastrar livro\")\n",
        "        print(\"4. Sair\")\n",
        "        opcao = input(\"Escolha uma opção: \")\n",
        "        if opcao == '1':\n",
        "          cadastrar_livro()\n",
        "        elif opcao == '2':\n",
        "          consultar_livro()\n",
        "        elif opcao == '3':\n",
        "          titulo = input(\"Digite o título do livro que deseja descadastrar: \")\n",
        "          biblioteca.descadastrar_livro(titulo)\n",
        "        elif opcao == '4':\n",
        "          break\n",
        "  elif opcao == '2':\n",
        "    if login():\n",
        "      while True:\n",
        "        print(\"1. Cadastrar livro\")\n",
        "        print(\"2. Consultar livro\")\n",
        "        print(\"3. Descadastrar livro\")\n",
        "        print(\"4. Sair\")\n",
        "        opcao = input(\"Escolha uma opção: \")\n",
        "        if opcao == '1':\n",
        "          cadastrar_livro()\n",
        "        elif opcao == '2':\n",
        "          consultar_livro()\n",
        "        elif opcao == '3':\n",
        "            titulo = input(\"Digite o título do livro que deseja descadastrar: \")\n",
        "            biblioteca.descadastrar_livro(titulo)\n",
        "        elif opcao == '4':\n",
        "            break\n",
        "        else:\n",
        "            print(\"Login falhou.\")\n",
        "  elif opcao == '3':\n",
        "    nome = input(\"Digite o nome do usuário que deseja descadastrar: \")\n",
        "    biblioteca.descadastrar_usuario(nome)\n",
        "  elif opcao == '4':\n",
        "    break"
      ],
      "metadata": {
        "colab": {
          "base_uri": "https://localhost:8080/"
        },
        "id": "x4VNd91jtI3g",
        "outputId": "2c15017c-8eef-42ba-beec-ac5275720942"
      },
      "execution_count": 73,
      "outputs": [
        {
          "name": "stdout",
          "output_type": "stream",
          "text": [
            "Bem-vindo ao sistema de biblioteca!\n",
            "1. Cadastrar usuário\n",
            "2. Login\n",
            "3. Descadastrar usuário\n",
            "4. Sair\n",
            "Escolha uma opção: 2\n",
            "Digite o seu nome de usuário: Victor Acosta\n",
            "Digite a sua senha de 4 dígitos: 1234\n",
            "Login falhou.\n",
            "Bem-vindo ao sistema de biblioteca!\n",
            "1. Cadastrar usuário\n",
            "2. Login\n",
            "3. Descadastrar usuário\n",
            "4. Sair\n",
            "Escolha uma opção: 1\n",
            "Cadastre  o seu nome de usuário:Victor Ribeiro Acosta\n",
            "Agora digite uma  senha com 4 dígitos: 4444\n",
            "Usuário cadastrado com sucesso!\n",
            "1. Cadastrar livro\n",
            "2. Consultar livro\n",
            "3. Descadastrar livro\n",
            "4. Sair\n",
            "Escolha uma opção: 1\n",
            "Digite o título do livro que quer cadastrar: O poder dos quietos\n",
            "Agora cadastre o nome do autor: Suzan Cain\n",
            "Digite o gênero do livro: Biografia\n",
            "Digite a quantidade de exemplares do título que está cadsatrando: 5\n",
            "Livro cadastrado com sucesso!\n",
            "1. Cadastrar livro\n",
            "2. Consultar livro\n",
            "3. Descadastrar livro\n",
            "4. Sair\n",
            "Escolha uma opção: 4\n",
            "Bem-vindo ao sistema de biblioteca!\n",
            "1. Cadastrar usuário\n",
            "2. Login\n",
            "3. Descadastrar usuário\n",
            "4. Sair\n",
            "Escolha uma opção: 2\n",
            "Digite o seu nome de usuário: Victor Ribeiro Acosta\n",
            "Digite a sua senha de 4 dígitos: 4444\n",
            "Login falhou.\n",
            "Bem-vindo ao sistema de biblioteca!\n",
            "1. Cadastrar usuário\n",
            "2. Login\n",
            "3. Descadastrar usuário\n",
            "4. Sair\n",
            "Escolha uma opção: 4\n"
          ]
        }
      ]
    }
  ]
}