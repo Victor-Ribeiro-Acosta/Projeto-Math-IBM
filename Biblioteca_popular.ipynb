{
  "nbformat": 4,
  "nbformat_minor": 0,
  "metadata": {
    "colab": {
      "provenance": [],
      "mount_file_id": "1HzCCPs7za-mI4glni_pIOP4tIT-E2RUo",
      "authorship_tag": "ABX9TyOlUXYsZTtrQuhLK1yZUBh2",
      "include_colab_link": true
    },
    "kernelspec": {
      "name": "python3",
      "display_name": "Python 3"
    },
    "language_info": {
      "name": "python"
    }
  },
  "cells": [
    {
      "cell_type": "markdown",
      "metadata": {
        "id": "view-in-github",
        "colab_type": "text"
      },
      "source": [
        "<a href=\"https://colab.research.google.com/github/Victor-Ribeiro-Acosta/Projeto-Math-IBM/blob/main/Biblioteca_popular.ipynb\" target=\"_parent\"><img src=\"https://colab.research.google.com/assets/colab-badge.svg\" alt=\"Open In Colab\"/></a>"
      ]
    },
    {
      "cell_type": "code",
      "source": [
        "import os\n",
        "import sqlite3\n",
        "from pandas import DataFrame"
      ],
      "metadata": {
        "id": "c6r3Ir9OrDro"
      },
      "execution_count": 43,
      "outputs": []
    },
    {
      "cell_type": "code",
      "source": [
        "# Classe para o usuário\n",
        "class Usuario:\n",
        "    def __init__(self, nome, senha):\n",
        "        self.nome = nome\n",
        "        self.senha = senha\n"
      ],
      "metadata": {
        "id": "8o9hw_YZrqRs"
      },
      "execution_count": 44,
      "outputs": []
    },
    {
      "cell_type": "code",
      "source": [
        "# Classe para o livro\n",
        "class Livro:\n",
        "    def __init__(self, titulo, autor, genero, quantidade):\n",
        "        self.titulo = titulo\n",
        "        self.autor = autor\n",
        "        self.genero = genero\n",
        "        self.quantidade = quantidade"
      ],
      "metadata": {
        "id": "prmWZBIbrwz0"
      },
      "execution_count": 45,
      "outputs": []
    },
    {
      "cell_type": "code",
      "source": [
        "# Classe para a biblioteca\n",
        "class Biblioteca:\n",
        "    def __init__(self):\n",
        "      self.usuarios_ref = self.lista_usuarios()\n",
        "      self.livros = self.consultar_catalogo()\n",
        "\n",
        "    def cadastrar_usuario(self, usuario):\n",
        "        with sqlite3.connect('Banco_dados_biblioteca.db') as bd:\n",
        "          cursor = bd.cursor()\n",
        "          cursor.execute(f'''INSERT INTO usuarios (nome, senha) VALUES(?, ?)''',(usuario.nome, usuario.senha))\n",
        "          bd.commit()\n",
        "\n",
        "        print(\"Usuário cadastrado com sucesso!\")\n",
        "        return True\n",
        "\n",
        "    def lista_usuarios(self):\n",
        "        with sqlite3.connect('Banco_dados_biblioteca.db') as banco_dados:\n",
        "          cursor = banco_dados.cursor()\n",
        "          dados = cursor.execute('''SELECT * FROM usuarios''').fetchall()\n",
        "          usuarios = DataFrame(dados, columns=['id','nome','senha'])\n",
        "\n",
        "        return usuarios\n",
        "\n",
        "    def cadastrar_livro(self, livro):\n",
        "        with sqlite3.connect('Banco_dados_biblioteca.db') as bd:\n",
        "          cursor = bd.cursor()\n",
        "          cursor.execute(f'''INSERT INTO tabela_livros(Titulo, Autor, Genero, Quantidade) VALUES(?, ?, ?, ?)''',(livro.titulo, livro.autor, livro.genero, livro.quantidade))\n",
        "          bd.commit()\n",
        "\n",
        "        print(\"Livro cadastrado com sucesso!\")\n",
        "\n",
        "    def consultar_catalogo(self):\n",
        "      with sqlite3.connect('Banco_dados_biblioteca.db') as banco_dados:\n",
        "        cursor = banco_dados.cursor()\n",
        "        obras_disponiveis = cursor.execute('SELECT * FROM tabela_livros').fetchall()\n",
        "        dados = DataFrame(obras_disponiveis, columns=['id','Titulo', 'Autor', 'Genero', 'Quantidade'])\n",
        "      return dados\n"
      ],
      "metadata": {
        "id": "3ML26rWer_tr"
      },
      "execution_count": 61,
      "outputs": []
    },
    {
      "cell_type": "code",
      "source": [
        "# Dicionário para armazenar usuários e livros\n",
        "\n",
        "biblioteca = Biblioteca()\n",
        "\n",
        "# Lista de gêneros\n",
        "generos = [\"romance\", \"novela\", \"conto\", \"ficção científica\", \"fantasia\", \"mistério\", \"suspense\", \"terror\", \"ficção histórica\", \"realismo mágico\", \"ficção especulativa\", \"ficção de aventura\", \"ficção policial\", \"ficção de espionagem\", \"biografia\", \"autobiografia\", \"memórias\", \"história\", \"ensaio\", \"jornalismo literário\", \"autoajuda\", \"guias de viagem\", \"livros de receitas\", \"livros de referência\", \"soneto\", \"ode\", \"elegia\", \"haicai\", \"épico\", \"lírico\", \"tragédia\", \"comédia\", \"drama histórico\", \"melodrama\", \"farsa\", \"ficção para jovens adultos\", \"livros ilustrados\", \"literatura infantil\", \"graphic novels\", \"mangá\", \"light novel\"]\n"
      ],
      "metadata": {
        "id": "hCiNBGrGsdW9"
      },
      "execution_count": 62,
      "outputs": []
    },
    {
      "cell_type": "code",
      "source": [
        "# Função para encontrar o gênero mais parecido na lista de gêneros\n",
        "def encontrar_genero(genero):\n",
        "    for g in generos:\n",
        "        if g.startswith(genero.lower()[:4]):\n",
        "            return g\n",
        "    return genero"
      ],
      "metadata": {
        "id": "zZ6WWjaVsl1l"
      },
      "execution_count": 48,
      "outputs": []
    },
    {
      "cell_type": "code",
      "source": [
        "# Função para cadastrar usuário\n",
        "def cadastrar_usuario():\n",
        "    while True:\n",
        "        nome = input(\"Cadastre  o seu nome de usuário:\")\n",
        "        if len(nome) > 60:\n",
        "            print(\"O nome de usuário deve ter até 60 caracteres. Tente novamente.\")\n",
        "\n",
        "        else:\n",
        "          senha = input(\"Agora digite uma  senha com 4 dígitos: \")\n",
        "\n",
        "          if len(senha) != 4:\n",
        "            print(\"A senha deve ter 4 dígitos, tente novamente.\")\n",
        "\n",
        "          else:\n",
        "            break\n",
        "    usuario = Usuario(nome, senha)\n",
        "    return biblioteca.cadastrar_usuario(usuario)"
      ],
      "metadata": {
        "id": "gfH_-P-gsrq7"
      },
      "execution_count": 50,
      "outputs": []
    },
    {
      "cell_type": "code",
      "source": [
        "# Função para login do usuário\n",
        "def login():\n",
        "    nome = input(\"Digite o seu nome de usuário: \")\n",
        "    senha = input(\"Digite a sua senha de 4 dígitos: \")\n",
        "    if nome in biblioteca.usuarios_ref['nome'].values and senha in biblioteca.usuarios_ref['senha'].values:\n",
        "      for indice, usuario in biblioteca.usuarios_ref.iterrows():\n",
        "\n",
        "        if (usuario['nome'] == nome) and (usuario['senha'] == senha):\n",
        "          print(\"Login realizado com sucesso!\")\n",
        "          return True\n",
        "\n",
        "        else:\n",
        "          print('Usuário ou senha inválidos!')\n",
        "          return False\n",
        "\n",
        "    else:\n",
        "        print(\"Login falhou.\")\n",
        "        return False"
      ],
      "metadata": {
        "id": "zO1HF4P9szL4"
      },
      "execution_count": 73,
      "outputs": []
    },
    {
      "cell_type": "code",
      "source": [
        "# Função para cadastrar livro\n",
        "def cadastrar_livro():\n",
        "    while True:\n",
        "        titulo = input(\"Digite o título do livro que quer cadastrar: \")\n",
        "        if len(titulo) <= 60:\n",
        "            break\n",
        "        else:\n",
        "            print(\"O título do livro deve ter até 60 caracteres. Tente novamente.\")\n",
        "    while True:\n",
        "        autor = input(\"Agora cadastre o nome do autor: \")\n",
        "        if len(autor) <= 60:\n",
        "            break\n",
        "        else:\n",
        "            print(\"O nome do autor deve ter até 60 caracteres. Tente novamente.\")\n",
        "    while True:\n",
        "        genero = input(\"Digite o gênero do livro: \")\n",
        "        if len(genero) <= 10 and genero.isalpha():\n",
        "            genero = encontrar_genero(genero)\n",
        "            break\n",
        "        else:\n",
        "            print(\"Gênero inválido. Por favor, insira um gênero válido sem números e com até 10 caracteres.\")\n",
        "    while True:\n",
        "        try:\n",
        "            quantidade = int(input(\"Digite a quantidade de exemplares do título que está cadsatrando: \"))\n",
        "            if 0 <= quantidade <= 9999:\n",
        "                break\n",
        "            else:\n",
        "                print(\"Quantidade inválida. Por favor, insira um número inteiro de 1 a 9999.\")\n",
        "        except ValueError:\n",
        "            print(\"Quantidade inválida. Por favor, insira um número inteiro.\")\n",
        "    livro = Livro(titulo, autor, genero, quantidade)\n",
        "    biblioteca.cadastrar_livro(livro)\n"
      ],
      "metadata": {
        "id": "9HzqxyIJs5mD"
      },
      "execution_count": 52,
      "outputs": []
    },
    {
      "cell_type": "code",
      "source": [
        "with sqlite3.connect('Banco_dados_biblioteca.db') as banco_dados:\n",
        "    cursor = banco_dados.cursor()\n",
        "    cursor.execute('''CREATE TABLE IF NOT EXISTS usuarios (id INTEGER PRIMARY KEY AUTOINCREMENT, nome TEXT NOT NULL, senha TEXT NOT NULL)''')\n",
        "    cursor.execute('''CREATE TABLE IF NOT EXISTS tabela_livros (id INTEGER PRIMARY KEY AUTOINCREMENT, Titulo TEXT NOT NULL, Autor TEXT NOT NULL, Genero TEXT NOT NULL, Quantidade INTEGER)''')\n"
      ],
      "metadata": {
        "id": "EvTYZB2F97iu"
      },
      "execution_count": 38,
      "outputs": []
    },
    {
      "cell_type": "code",
      "source": [
        "# Função para consultar livro\n",
        "def consultar_livro():\n",
        "    opcao = input(\"Deseja consultar por (1)Título, (2)Autor, (3)Gênero ou (4)Ver todo o cadastro? \")\n",
        "    if opcao == '1':\n",
        "        titulo = input(\"Digite o título do livro: \")\n",
        "        print(biblioteca.livros[biblioteca.livros['Titulo'] == titulo])\n",
        "\n",
        "\n",
        "    elif opcao == '2':\n",
        "        autor = input(\"Digite o nome do autor: \")\n",
        "        print(biblioteca.livros[biblioteca.livros['Autor'] == autor])\n",
        "\n",
        "\n",
        "    elif opcao == '3':\n",
        "        genero = input(\"Digite o gênero do livro: \")\n",
        "        genero = encontrar_genero(genero)\n",
        "        print(biblioteca.livros[biblioteca.livros['Genero'] == genero])\n",
        "\n",
        "    elif opcao == '4':\n",
        "        print(biblioteca.livros)"
      ],
      "metadata": {
        "id": "GOEHwZ0ZtBY6"
      },
      "execution_count": 85,
      "outputs": []
    },
    {
      "cell_type": "code",
      "source": [
        "\n"
      ],
      "metadata": {
        "colab": {
          "base_uri": "https://localhost:8080/",
          "height": 81
        },
        "id": "WcT00uRRJUMp",
        "outputId": "fcecf4f5-de33-451d-c7e0-a1c8f5a5a5be"
      },
      "execution_count": 79,
      "outputs": [
        {
          "output_type": "execute_result",
          "data": {
            "text/plain": [
              "   id    Titulo        Autor  Genero  Quantidade\n",
              "0   1  Coraline  Neil Gaiman  terror           5"
            ],
            "text/html": [
              "\n",
              "  <div id=\"df-8d1cb12f-3e4e-40a4-8ecd-55fef38218df\" class=\"colab-df-container\">\n",
              "    <div>\n",
              "<style scoped>\n",
              "    .dataframe tbody tr th:only-of-type {\n",
              "        vertical-align: middle;\n",
              "    }\n",
              "\n",
              "    .dataframe tbody tr th {\n",
              "        vertical-align: top;\n",
              "    }\n",
              "\n",
              "    .dataframe thead th {\n",
              "        text-align: right;\n",
              "    }\n",
              "</style>\n",
              "<table border=\"1\" class=\"dataframe\">\n",
              "  <thead>\n",
              "    <tr style=\"text-align: right;\">\n",
              "      <th></th>\n",
              "      <th>id</th>\n",
              "      <th>Titulo</th>\n",
              "      <th>Autor</th>\n",
              "      <th>Genero</th>\n",
              "      <th>Quantidade</th>\n",
              "    </tr>\n",
              "  </thead>\n",
              "  <tbody>\n",
              "    <tr>\n",
              "      <th>0</th>\n",
              "      <td>1</td>\n",
              "      <td>Coraline</td>\n",
              "      <td>Neil Gaiman</td>\n",
              "      <td>terror</td>\n",
              "      <td>5</td>\n",
              "    </tr>\n",
              "  </tbody>\n",
              "</table>\n",
              "</div>\n",
              "    <div class=\"colab-df-buttons\">\n",
              "\n",
              "  <div class=\"colab-df-container\">\n",
              "    <button class=\"colab-df-convert\" onclick=\"convertToInteractive('df-8d1cb12f-3e4e-40a4-8ecd-55fef38218df')\"\n",
              "            title=\"Convert this dataframe to an interactive table.\"\n",
              "            style=\"display:none;\">\n",
              "\n",
              "  <svg xmlns=\"http://www.w3.org/2000/svg\" height=\"24px\" viewBox=\"0 -960 960 960\">\n",
              "    <path d=\"M120-120v-720h720v720H120Zm60-500h600v-160H180v160Zm220 220h160v-160H400v160Zm0 220h160v-160H400v160ZM180-400h160v-160H180v160Zm440 0h160v-160H620v160ZM180-180h160v-160H180v160Zm440 0h160v-160H620v160Z\"/>\n",
              "  </svg>\n",
              "    </button>\n",
              "\n",
              "  <style>\n",
              "    .colab-df-container {\n",
              "      display:flex;\n",
              "      gap: 12px;\n",
              "    }\n",
              "\n",
              "    .colab-df-convert {\n",
              "      background-color: #E8F0FE;\n",
              "      border: none;\n",
              "      border-radius: 50%;\n",
              "      cursor: pointer;\n",
              "      display: none;\n",
              "      fill: #1967D2;\n",
              "      height: 32px;\n",
              "      padding: 0 0 0 0;\n",
              "      width: 32px;\n",
              "    }\n",
              "\n",
              "    .colab-df-convert:hover {\n",
              "      background-color: #E2EBFA;\n",
              "      box-shadow: 0px 1px 2px rgba(60, 64, 67, 0.3), 0px 1px 3px 1px rgba(60, 64, 67, 0.15);\n",
              "      fill: #174EA6;\n",
              "    }\n",
              "\n",
              "    .colab-df-buttons div {\n",
              "      margin-bottom: 4px;\n",
              "    }\n",
              "\n",
              "    [theme=dark] .colab-df-convert {\n",
              "      background-color: #3B4455;\n",
              "      fill: #D2E3FC;\n",
              "    }\n",
              "\n",
              "    [theme=dark] .colab-df-convert:hover {\n",
              "      background-color: #434B5C;\n",
              "      box-shadow: 0px 1px 3px 1px rgba(0, 0, 0, 0.15);\n",
              "      filter: drop-shadow(0px 1px 2px rgba(0, 0, 0, 0.3));\n",
              "      fill: #FFFFFF;\n",
              "    }\n",
              "  </style>\n",
              "\n",
              "    <script>\n",
              "      const buttonEl =\n",
              "        document.querySelector('#df-8d1cb12f-3e4e-40a4-8ecd-55fef38218df button.colab-df-convert');\n",
              "      buttonEl.style.display =\n",
              "        google.colab.kernel.accessAllowed ? 'block' : 'none';\n",
              "\n",
              "      async function convertToInteractive(key) {\n",
              "        const element = document.querySelector('#df-8d1cb12f-3e4e-40a4-8ecd-55fef38218df');\n",
              "        const dataTable =\n",
              "          await google.colab.kernel.invokeFunction('convertToInteractive',\n",
              "                                                    [key], {});\n",
              "        if (!dataTable) return;\n",
              "\n",
              "        const docLinkHtml = 'Like what you see? Visit the ' +\n",
              "          '<a target=\"_blank\" href=https://colab.research.google.com/notebooks/data_table.ipynb>data table notebook</a>'\n",
              "          + ' to learn more about interactive tables.';\n",
              "        element.innerHTML = '';\n",
              "        dataTable['output_type'] = 'display_data';\n",
              "        await google.colab.output.renderOutput(dataTable, element);\n",
              "        const docLink = document.createElement('div');\n",
              "        docLink.innerHTML = docLinkHtml;\n",
              "        element.appendChild(docLink);\n",
              "      }\n",
              "    </script>\n",
              "  </div>\n",
              "\n",
              "    </div>\n",
              "  </div>\n"
            ]
          },
          "metadata": {},
          "execution_count": 79
        }
      ]
    },
    {
      "cell_type": "code",
      "source": [
        "\n",
        "while True:\n",
        "  print(\"Bem-vindo ao sistema de biblioteca!\")\n",
        "  print(\"1. Cadastrar usuário\")\n",
        "  print(\"2. Login\")\n",
        "  print(\"3. Descadastrar usuário\")\n",
        "  print(\"4. Sair\")\n",
        "  opcao = input(\"Escolha uma opção: \")\n",
        "  if opcao == '1':\n",
        "    if cadastrar_usuario():\n",
        "      while True:\n",
        "        print(\"1. Cadastrar livro\")\n",
        "        print(\"2. Consultar livro\")\n",
        "        print(\"3. Descadastrar livro\")\n",
        "        print(\"4. Sair\")\n",
        "        opcao = input(\"Escolha uma opção: \")\n",
        "        if opcao == '1':\n",
        "          cadastrar_livro()\n",
        "        elif opcao == '2':\n",
        "          consultar_livro()\n",
        "        elif opcao == '3':\n",
        "          titulo = input(\"Digite o título do livro que deseja descadastrar: \")\n",
        "          biblioteca.descadastrar_livro(titulo)\n",
        "        elif opcao == '4':\n",
        "          break\n",
        "  elif opcao == '2':\n",
        "    if login():\n",
        "      while True:\n",
        "        print(\"1. Cadastrar livro\")\n",
        "        print(\"2. Consultar livro\")\n",
        "        print(\"3. Descadastrar livro\")\n",
        "        print(\"4. Sair\")\n",
        "        opcao = input(\"Escolha uma opção: \")\n",
        "        if opcao == '1':\n",
        "          cadastrar_livro()\n",
        "        elif opcao == '2':\n",
        "          consultar_livro()\n",
        "        elif opcao == '3':\n",
        "            titulo = input(\"Digite o título do livro que deseja descadastrar: \")\n",
        "            biblioteca.descadastrar_livro(titulo)\n",
        "        elif opcao == '4':\n",
        "            break\n",
        "        else:\n",
        "            print(\"Login falhou.\")\n",
        "  elif opcao == '3':\n",
        "    nome = input(\"Digite o nome do usuário que deseja descadastrar: \")\n",
        "    biblioteca.descadastrar_usuario(nome)\n",
        "  elif opcao == '4':\n",
        "    break"
      ],
      "metadata": {
        "colab": {
          "base_uri": "https://localhost:8080/"
        },
        "id": "x4VNd91jtI3g",
        "outputId": "bce7082c-7a9f-4000-b9f1-b1fc68ee115d"
      },
      "execution_count": 86,
      "outputs": [
        {
          "name": "stdout",
          "output_type": "stream",
          "text": [
            "Bem-vindo ao sistema de biblioteca!\n",
            "1. Cadastrar usuário\n",
            "2. Login\n",
            "3. Descadastrar usuário\n",
            "4. Sair\n",
            "Escolha uma opção: 2\n",
            "Digite o seu nome de usuário: Victor Acosta\n",
            "Digite a sua senha de 4 dígitos: 1234\n",
            "Login realizado com sucesso!\n",
            "1. Cadastrar livro\n",
            "2. Consultar livro\n",
            "3. Descadastrar livro\n",
            "4. Sair\n",
            "Escolha uma opção: 2\n",
            "Deseja consultar por (1)Título, (2)Autor, (3)Gênero ou (4)Ver todo o cadastro? 1\n",
            "Digite o título do livro: Coraline\n",
            "   id    Titulo        Autor  Genero  Quantidade\n",
            "0   1  Coraline  Neil Gaiman  terror           5\n",
            "1. Cadastrar livro\n",
            "2. Consultar livro\n",
            "3. Descadastrar livro\n",
            "4. Sair\n",
            "Escolha uma opção: 4\n",
            "Bem-vindo ao sistema de biblioteca!\n",
            "1. Cadastrar usuário\n",
            "2. Login\n",
            "3. Descadastrar usuário\n",
            "4. Sair\n",
            "Escolha uma opção: 4\n"
          ]
        }
      ]
    }
  ]
}